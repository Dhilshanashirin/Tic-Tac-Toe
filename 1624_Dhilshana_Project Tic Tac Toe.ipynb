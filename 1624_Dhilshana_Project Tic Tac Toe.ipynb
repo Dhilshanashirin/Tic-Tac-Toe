{
 "cells": [
  {
   "cell_type": "code",
   "execution_count": null,
   "id": "49177086-78dc-4096-a11a-a8eda87752f8",
   "metadata": {},
   "outputs": [
    {
     "name": "stdout",
     "output_type": "stream",
     "text": [
      "  |   |  \n",
      "  |   |  \n",
      "  |   |  \n",
      "----------\n"
     ]
    }
   ],
   "source": [
    "\n",
    "\n",
    "board = [' '] * 10\n",
    "player1 = 'X'\n",
    "player2 = 'O'\n",
    "\n",
    "def display_board(board):\n",
    "    print(f'{board[1]} | {board[2]} | {board[3]}')\n",
    "    print(f'{board[4]} | {board[5]} | {board[6]}')\n",
    "    print(f'{board[7]} | {board[8]} | {board[9]}')\n",
    "    print('-' * 10)\n",
    "\n",
    "def check_win():\n",
    "    if board[1] == board[2] == board[3] and board[1] != ' ':\n",
    "        return True\n",
    "    elif board[4] == board[5] == board[6] and board[4] != ' ':\n",
    "        return True\n",
    "    elif board[7] == board[8] == board[9] and board[7] != ' ':\n",
    "        return True\n",
    "    elif board[1] == board[4] == board[7] and board[1] != ' ':\n",
    "        return True\n",
    "    elif board[2] == board[5] == board[8] and board[2] != ' ':\n",
    "        return True\n",
    "    elif board[3] == board[6] == board[9] and board[3] != ' ':\n",
    "        return True\n",
    "    elif board[1] == board[5] == board[9] and board[1] != ' ':\n",
    "        return True\n",
    "    elif board[7] == board[5] == board[3] and board[7] != ' ':\n",
    "        return True\n",
    "    else:\n",
    "        return False\n",
    "\n",
    "def check_draw():\n",
    "    if board.count(' ') < 2:\n",
    "        return True\n",
    "    else:\n",
    "        return False\n",
    "\n",
    "def is_available(pos):\n",
    "    return True if board[pos] == ' ' else False\n",
    "\n",
    "def insert(letter, pos):\n",
    "    if is_available(pos):\n",
    "        board[pos] = letter\n",
    "        display_board(board)\n",
    "        if check_win():\n",
    "            if letter == 'X':\n",
    "                print('Player 1 wins')\n",
    "            else:\n",
    "                print('Player 2 wins')\n",
    "            exit()\n",
    "        if check_draw():\n",
    "            print('Draw')\n",
    "            exit()\n",
    "    else:\n",
    "        pos = int(input(\"Not free! Please re-enter a position: \"))\n",
    "        insert(letter, pos)\n",
    "\n",
    "def player_move(letter):\n",
    "    pos = int(input(f\"Enter the position to insert ({letter}): \"))\n",
    "    insert(letter, pos)\n",
    "\n",
    "while not check_win():\n",
    "    display_board(board)\n",
    "    player_move(player1)\n",
    "    if check_win() or check_draw():\n",
    "        break\n",
    "    player_move(player2)\n",
    "    if check_win() or check_draw():\n",
    "        break\n",
    "\n",
    "while not check_win():\n",
    "    display_board(board)\n",
    "    player_move(player1)\n",
    "    player_move(player2)\n"
   ]
  },
  {
   "cell_type": "code",
   "execution_count": null,
   "id": "8af433ed-91fb-4d37-a933-df3a3d289fe6",
   "metadata": {},
   "outputs": [],
   "source": []
  }
 ],
 "metadata": {
  "kernelspec": {
   "display_name": "Python 3 (ipykernel)",
   "language": "python",
   "name": "python3"
  },
  "language_info": {
   "codemirror_mode": {
    "name": "ipython",
    "version": 3
   },
   "file_extension": ".py",
   "mimetype": "text/x-python",
   "name": "python",
   "nbconvert_exporter": "python",
   "pygments_lexer": "ipython3",
   "version": "3.12.4"
  }
 },
 "nbformat": 4,
 "nbformat_minor": 5
}
